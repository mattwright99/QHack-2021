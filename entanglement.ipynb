{
 "cells": [
  {
   "cell_type": "markdown",
   "metadata": {},
   "source": [
    "# Simple Circuit - Entanglement\n",
    "## [QHack 2021](https://challenge.qhack.ai/)\n",
    "### Matt Wright"
   ]
  },
  {
   "cell_type": "code",
   "execution_count": 1,
   "metadata": {},
   "outputs": [],
   "source": [
    "import pennylane as qml"
   ]
  },
  {
   "cell_type": "code",
   "execution_count": 2,
   "metadata": {},
   "outputs": [],
   "source": [
    "def simple_circuits_50(angle):\n",
    "    \"\"\"This function creates the standard Bell State, rotates the first qubit \n",
    "    around the y-axis by the given angle, and measures the expectation value\n",
    "    of the tensor observable `qml.PauliZ(0) @ qml.PauliZ(1)`\n",
    "\n",
    "    Args:\n",
    "        angle (float): how much to rotate a state around the y-axis\n",
    "\n",
    "    Returns:\n",
    "        float: the expectation value of the tensor observable\n",
    "    \"\"\"\n",
    "\n",
    "    dev = qml.device('default.qubit', wires=2)\n",
    "\n",
    "    @qml.qnode(dev)\n",
    "    def my_quantum_func(angle):\n",
    "        qml.Hadamard(0)\n",
    "        qml.CNOT(wires=[0,1])\n",
    "        qml.RY(angle, wires=0)\n",
    "        return qml.expval(qml.PauliZ(0) @ qml.PauliZ(1))\n",
    "\n",
    "    expectation_value = my_quantum_func(angle).item()\n",
    "    return expectation_value"
   ]
  },
  {
   "cell_type": "markdown",
   "metadata": {},
   "source": [
    "## Testing"
   ]
  },
  {
   "cell_type": "code",
   "execution_count": 3,
   "metadata": {},
   "outputs": [],
   "source": [
    "from test_result import test_result"
   ]
  },
  {
   "cell_type": "code",
   "execution_count": 5,
   "metadata": {},
   "outputs": [
    {
     "name": "stdout",
     "output_type": "stream",
     "text": [
      "Test 1:\n",
      "Success!!\n",
      "\n",
      "Test 2:\n",
      "Success!!\n"
     ]
    }
   ],
   "source": [
    "tol = 10e-3\n",
    "\n",
    "print('Test 1:')\n",
    "input_1 = 1.23456\n",
    "pred_1 = simple_circuits_50(input_1)\n",
    "ans_1 = 0.3299365180851774\n",
    "test_result(pred_1, ans_1, tol)\n",
    "\n",
    "print('\\nTest 2:')\n",
    "input_2 = 1.86923\n",
    "pred_2 = simple_circuits_50(input_2)\n",
    "ans_2 = -0.2940234756205866\n",
    "test_result(pred_2, ans_2, tol)"
   ]
  }
 ],
 "metadata": {
  "kernelspec": {
   "display_name": "Python 3",
   "language": "python",
   "name": "python3"
  },
  "language_info": {
   "codemirror_mode": {
    "name": "ipython",
    "version": 3
   },
   "file_extension": ".py",
   "mimetype": "text/x-python",
   "name": "python",
   "nbconvert_exporter": "python",
   "pygments_lexer": "ipython3",
   "version": "3.8.5"
  }
 },
 "nbformat": 4,
 "nbformat_minor": 4
}
