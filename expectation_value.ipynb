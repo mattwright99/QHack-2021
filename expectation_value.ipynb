{
 "cells": [
  {
   "cell_type": "markdown",
   "metadata": {},
   "source": [
    "# Simple Circuit - Expectation Value\n",
    "## [QHack 2021](https://challenge.qhack.ai/)\n",
    "### Matt Wright"
   ]
  },
  {
   "cell_type": "code",
   "execution_count": 1,
   "metadata": {},
   "outputs": [],
   "source": [
    "import pennylane as qml"
   ]
  },
  {
   "cell_type": "code",
   "execution_count": 2,
   "metadata": {},
   "outputs": [],
   "source": [
    "def simple_circuits_30(angle):\n",
    "    \"\"\"This function rotates a qubit around the y-axis by the give angle\n",
    "    and measures the expectation value of `PauliX`.\n",
    "\n",
    "    Args:\n",
    "        angle (float): how much to rotate a state around the y-axis\n",
    "\n",
    "    Returns:\n",
    "        float: the expectation value of a PauliX measurement\n",
    "    \"\"\"\n",
    "    \n",
    "    dev = qml.device('default.qubit', wires=1)\n",
    "\n",
    "    @qml.qnode(dev)\n",
    "    def my_quantum_func(angle):\n",
    "        qml.RY(angle, wires=0)\n",
    "        return qml.expval(qml.PauliX(0))\n",
    "\n",
    "    x_expectation = my_quantum_func(angle)\n",
    "    return x_expectation.item()"
   ]
  },
  {
   "cell_type": "markdown",
   "metadata": {},
   "source": [
    "## Testing"
   ]
  },
  {
   "cell_type": "code",
   "execution_count": 4,
   "metadata": {},
   "outputs": [],
   "source": [
    "from test_result import test_result"
   ]
  },
  {
   "cell_type": "code",
   "execution_count": 7,
   "metadata": {},
   "outputs": [
    {
     "name": "stdout",
     "output_type": "stream",
     "text": [
      "Test 1:\n",
      "Success!!\n",
      "\n",
      "Test 2:\n",
      "Success!!\n"
     ]
    }
   ],
   "source": [
    "tol = 10e-3\n",
    "\n",
    "print('Test 1:')\n",
    "input_1 = 1.23456\n",
    "pred_1 = simple_circuits_30(input_1)\n",
    "ans_1 = 0.9440031218347901\n",
    "test_result(pred_1, ans_1, tol)\n",
    "\n",
    "print('\\nTest 2:')\n",
    "input_2 = 2.957\n",
    "pred_2 = simple_circuits_30(input_2)\n",
    "ans_2 = 0.1835461227247332\n",
    "test_result(pred_2, ans_2, tol)"
   ]
  }
 ],
 "metadata": {
  "kernelspec": {
   "display_name": "Python 3",
   "language": "python",
   "name": "python3"
  },
  "language_info": {
   "codemirror_mode": {
    "name": "ipython",
    "version": 3
   },
   "file_extension": ".py",
   "mimetype": "text/x-python",
   "name": "python",
   "nbconvert_exporter": "python",
   "pygments_lexer": "ipython3",
   "version": "3.8.5"
  }
 },
 "nbformat": 4,
 "nbformat_minor": 4
}
