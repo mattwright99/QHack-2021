{
 "cells": [
  {
   "cell_type": "markdown",
   "metadata": {},
   "source": [
    "# Simple Circuit - Measurement\n",
    "## [QHack 2021](https://challenge.qhack.ai/)\n",
    "### Matt Wright"
   ]
  },
  {
   "cell_type": "code",
   "execution_count": 2,
   "metadata": {},
   "outputs": [],
   "source": [
    "import pennylane as qml"
   ]
  },
  {
   "cell_type": "code",
   "execution_count": 3,
   "metadata": {},
   "outputs": [],
   "source": [
    "def simple_circuits_20(angle):\n",
    "    \"\"\"This function rotates the qubit around the x-axis by the given angle\n",
    "    and measures the probability the qubit is in the zero state.\n",
    "\n",
    "    Args:\n",
    "        angle (float): how much to rotate a state around the x-axis\n",
    "\n",
    "    Returns:\n",
    "        float: the probability of of the state being in the 0 ground state\n",
    "    \"\"\"\n",
    "    dev = qml.device('default.qubit', wires=1)\n",
    "\n",
    "    @qml.qnode(dev)\n",
    "    def x_rotation(angle):\n",
    "        qml.RX(angle, wires=0)\n",
    "        return qml.probs(wires=[0])\n",
    "\n",
    "    prob = x_rotation(angle)[0]\n",
    "    return prob.item()"
   ]
  },
  {
   "cell_type": "markdown",
   "metadata": {},
   "source": [
    "## Testing"
   ]
  },
  {
   "cell_type": "code",
   "execution_count": 8,
   "metadata": {},
   "outputs": [],
   "source": [
    "from test_result import test_result"
   ]
  },
  {
   "cell_type": "code",
   "execution_count": 10,
   "metadata": {},
   "outputs": [
    {
     "name": "stdout",
     "output_type": "stream",
     "text": [
      "Test 1:\n",
      "Success!!\n",
      "\n",
      "Test 2:\n",
      "Success!!\n"
     ]
    }
   ],
   "source": [
    "tol = 10e-3\n",
    "\n",
    "print('Test 1:')\n",
    "input_1 = 1.45783\n",
    "pred_1 = simple_circuits_20(input_1)\n",
    "ans_1 = 0.5563631060725739\n",
    "test_result(pred_1, ans_1, tol)\n",
    "\n",
    "print('\\nTest 2:')\n",
    "input_2 = 0.9572\n",
    "pred_2 = simple_circuits_20(input_2)\n",
    "ans_2 = 0.7879057356348377\n",
    "test_result(pred_2, ans_2, tol)"
   ]
  }
 ],
 "metadata": {
  "kernelspec": {
   "display_name": "Python 3",
   "language": "python",
   "name": "python3"
  },
  "language_info": {
   "codemirror_mode": {
    "name": "ipython",
    "version": 3
   },
   "file_extension": ".py",
   "mimetype": "text/x-python",
   "name": "python",
   "nbconvert_exporter": "python",
   "pygments_lexer": "ipython3",
   "version": "3.8.5"
  }
 },
 "nbformat": 4,
 "nbformat_minor": 4
}
