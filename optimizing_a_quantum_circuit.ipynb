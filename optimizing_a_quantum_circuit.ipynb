{
 "cells": [
  {
   "cell_type": "markdown",
   "metadata": {},
   "source": [
    "# Circuit Training - Optimizing a Quantum Circuit\n",
    "## [QHack 2021](https://challenge.qhack.ai/)\n",
    "### Matt Wright"
   ]
  },
  {
   "cell_type": "code",
   "execution_count": 1,
   "metadata": {},
   "outputs": [],
   "source": [
    "from pennylane import numpy as np\n",
    "import pennylane as qml"
   ]
  },
  {
   "cell_type": "code",
   "execution_count": 2,
   "metadata": {},
   "outputs": [],
   "source": [
    "WIRES = 2\n",
    "LAYERS = 5\n",
    "NUM_PARAMETERS = LAYERS * WIRES * 3"
   ]
  },
  {
   "cell_type": "code",
   "execution_count": 3,
   "metadata": {},
   "outputs": [],
   "source": [
    "def variational_circuit(params):\n",
    "    \"\"\"\n",
    "    # DO NOT MODIFY anything in this function! It is used to judge your solution.\n",
    "\n",
    "    This is a template variational quantum circuit containing a fixed layout of gates with variable\n",
    "    parameters. To be used as a QNode, it must either be wrapped with the @qml.qnode decorator or\n",
    "    converted using the qml.QNode function (as shown above).\n",
    "\n",
    "    The output of this circuit is the expectation value of a Hamiltonian. An unknown Hamiltonian\n",
    "    will be used to judge your solution.\n",
    "\n",
    "    Args:\n",
    "        params (np.ndarray): An array of optimizable parameters of shape (30,)\n",
    "    \"\"\"\n",
    "    parameters = params.reshape((LAYERS, WIRES, 3))\n",
    "    qml.templates.StronglyEntanglingLayers(parameters, wires=range(WIRES))\n",
    "    return qml.expval(qml.Hermitian(hamiltonian, wires=[0, 1]))"
   ]
  },
  {
   "cell_type": "code",
   "execution_count": 4,
   "metadata": {},
   "outputs": [],
   "source": [
    "def parameter_shift(circuit, params):\n",
    "    \"\"\"Compute the gradient of the variational circuit given by using the \n",
    "    parameter-shift rule. See my solution in `parameter_shift.ipynb`\n",
    "\n",
    "    Args:\n",
    "        circuit (QNode): A variational circuit to compute the gradient of.\n",
    "        weights (array): An array of floating-point numbers with size (2, 3).\n",
    "\n",
    "    Returns:\n",
    "        array: The gradient of the variational circuit. The shape should match\n",
    "        the input weights array.\n",
    "    \"\"\"\n",
    "    \n",
    "    s = np.pi/2  # shift factor\n",
    "    gradient = np.zeros_like(params) \n",
    "    \n",
    "    for i in range(params.size):\n",
    "        unit_shift = np.zeros_like(params)\n",
    "        unit_shift[i] = s\n",
    "\n",
    "        forward_shift = circuit(params + unit_shift)\n",
    "        backward_shift = circuit(params - unit_shift)\n",
    "        gradient[i] = (forward_shift - backward_shift) / (2 * np.sin(s))\n",
    "    \n",
    "    return gradient"
   ]
  },
  {
   "cell_type": "code",
   "execution_count": 5,
   "metadata": {},
   "outputs": [],
   "source": [
    "def optimize_circuit(params):\n",
    "    \"\"\"Minimize the variational circuit parameters using an elementary optimizer I built \n",
    "    from stract and return its minimum value.\n",
    "\n",
    "    Args:\n",
    "        params (np.ndarray): Input parameters to be optimized, of dimension 30\n",
    "\n",
    "    Returns:\n",
    "        float: the value of the optimized QNode\n",
    "    \"\"\"\n",
    "\n",
    "    optimal_value = 0.0\n",
    "\n",
    "    # My solution begins here #\n",
    "    # Initialize the device\n",
    "    dev = qml.device('default.qubit', wires=WIRES)\n",
    "\n",
    "    # Instantiate the QNode\n",
    "    circuit = qml.QNode(variational_circuit, dev)\n",
    "\n",
    "    # Minimize the circuit\n",
    "    steps = 75\n",
    "    step_size = 0.75\n",
    "    \n",
    "    from time import time\n",
    "    ts = time()\n",
    "    for i in range(steps):\n",
    "        gradient = parameter_shift(circuit, params)\n",
    "        step = step_size * gradient\n",
    "        params -= step\n",
    "\n",
    "    optimal_value = circuit(params)\n",
    "    \n",
    "    # My solution ends here #\n",
    "    return optimal_value"
   ]
  },
  {
   "cell_type": "markdown",
   "metadata": {},
   "source": [
    "## Testing"
   ]
  },
  {
   "cell_type": "code",
   "execution_count": 6,
   "metadata": {},
   "outputs": [],
   "source": [
    "from test_result import test_result"
   ]
  },
  {
   "cell_type": "code",
   "execution_count": 7,
   "metadata": {},
   "outputs": [
    {
     "name": "stdout",
     "output_type": "stream",
     "text": [
      "Test 1:\n",
      "Success!!\n",
      "\n",
      "Test 2:\n",
      "Success!!\n"
     ]
    }
   ],
   "source": [
    "tol = 5 * 10e-3\n",
    "\n",
    "# Generate random initial parameters\n",
    "np.random.seed(1967)\n",
    "\n",
    "print('Test 1:')\n",
    "hamiltonian = [0.863327072347624,0.0167108057202516,0.07991447085492759,0.0854049026262154,0.0167108057202516,0.8237963773906136,-0.07695947154193797,0.03131548733285282,0.07991447085492759,-0.07695947154193795,0.8355417021014687,-0.11345916130631205,0.08540490262621539,0.03131548733285283,-0.11345916130631205,0.758156886827099]\n",
    "hamiltonian = np.array(hamiltonian, float).reshape((2 ** WIRES, 2 ** WIRES))\n",
    "\n",
    "initial_params = np.random.random(NUM_PARAMETERS)\n",
    "\n",
    "pred = optimize_circuit(initial_params).item()\n",
    "ans = 0.6174534088307637\n",
    "test_result(pred, ans, tol)\n",
    "\n",
    "print('\\nTest 2:')\n",
    "hamiltonian = [0.32158897156285354,-0.20689268438270836,0.12366748295758379,-0.11737425017261123,-0.20689268438270836,0.7747346055276305,-0.05159966365446514,0.08215539696259792,0.12366748295758379,-0.05159966365446514,0.5769050487087416,0.3853362904758938,-0.11737425017261123,0.08215539696259792,0.3853362904758938,0.3986256655167206]\n",
    "hamiltonian = np.array(hamiltonian, float).reshape((2 ** WIRES, 2 ** WIRES))\n",
    "\n",
    "initial_params = np.random.random(NUM_PARAMETERS)\n",
    "\n",
    "pred = optimize_circuit(initial_params).item()\n",
    "ans = 0.0024648812008861154\n",
    "test_result(pred, ans, tol)"
   ]
  }
 ],
 "metadata": {
  "kernelspec": {
   "display_name": "Python 3",
   "language": "python",
   "name": "python3"
  },
  "language_info": {
   "codemirror_mode": {
    "name": "ipython",
    "version": 3
   },
   "file_extension": ".py",
   "mimetype": "text/x-python",
   "name": "python",
   "nbconvert_exporter": "python",
   "pygments_lexer": "ipython3",
   "version": "3.8.5"
  }
 },
 "nbformat": 4,
 "nbformat_minor": 4
}
