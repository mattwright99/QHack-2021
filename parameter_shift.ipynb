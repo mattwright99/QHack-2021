{
 "cells": [
  {
   "cell_type": "markdown",
   "metadata": {},
   "source": [
    "# Quantum Gradient - Parameter Shift\n",
    "## [QHack 2021](https://challenge.qhack.ai/)\n",
    "### Matt Wright"
   ]
  },
  {
   "cell_type": "code",
   "execution_count": 1,
   "metadata": {},
   "outputs": [],
   "source": [
    "import pennylane as qml\n",
    "import numpy as np"
   ]
  },
  {
   "cell_type": "code",
   "execution_count": 2,
   "metadata": {},
   "outputs": [],
   "source": [
    "def parameter_shift(weights):\n",
    "    \"\"\"Compute the gradient of the variational circuit given by the\n",
    "    ansatz function using the parameter-shift rule.\n",
    "\n",
    "    Args:\n",
    "        weights (array): An array of floating-point numbers with size (2, 3).\n",
    "\n",
    "    Returns:\n",
    "        array: The gradient of the variational circuit. The shape should match\n",
    "        the input weights array.\n",
    "    \"\"\"\n",
    "    dev = qml.device(\"default.qubit\", wires=3)\n",
    "\n",
    "    @qml.qnode(dev)\n",
    "    def circuit(weights):\n",
    "        for i in range(len(weights)):\n",
    "            qml.RX(weights[i, 0], wires=0)\n",
    "            qml.RY(weights[i, 1], wires=1)\n",
    "            qml.RZ(weights[i, 2], wires=2)\n",
    "\n",
    "            qml.CNOT(wires=[0, 1])\n",
    "            qml.CNOT(wires=[1, 2])\n",
    "            qml.CNOT(wires=[2, 0])\n",
    "\n",
    "        return qml.expval(qml.PauliY(0) @ qml.PauliZ(2))\n",
    "\n",
    "    gradient = np.zeros_like(weights)\n",
    "\n",
    "    # My solution begins here #\n",
    "    s = 1.0  # shift factor\n",
    "    \n",
    "    N, M = weights.shape\n",
    "    for i in range(N):\n",
    "        for j in range(M):\n",
    "            unit_shift = np.zeros_like(weights)\n",
    "            unit_shift[i, j] = s\n",
    "            \n",
    "            forward_shift = circuit(weights + unit_shift)\n",
    "            backward_shift = circuit(weights - unit_shift)\n",
    "            gradient[i, j] = (forward_shift - backward_shift) / (2 * np.sin(s))\n",
    "    \n",
    "    # My solution ends here #\n",
    "    return gradient"
   ]
  },
  {
   "cell_type": "markdown",
   "metadata": {},
   "source": [
    "## Testing"
   ]
  },
  {
   "cell_type": "code",
   "execution_count": 5,
   "metadata": {},
   "outputs": [],
   "source": [
    "from test_result import test_result"
   ]
  },
  {
   "cell_type": "code",
   "execution_count": 6,
   "metadata": {},
   "outputs": [
    {
     "name": "stdout",
     "output_type": "stream",
     "text": [
      "Test 1:\n",
      "Success!!\n",
      "\n",
      "Test 2:\n",
      "Success!!\n"
     ]
    }
   ],
   "source": [
    "tol = 10e-3\n",
    "\n",
    "print('Test 1:')\n",
    "input_1 = np.array([[1,   0.5, -0.765], \n",
    "                    [0.1, 0,   -0.654]])\n",
    "pred_1 = parameter_shift(input_1).flatten()\n",
    "ans_1 = np.array([0, 0, 0, 0, -0.4553474723, 0])\n",
    "test_result(pred_1, ans_1, tol)\n",
    "\n",
    "print('\\nTest 2:')\n",
    "input_2 = np.array([[0.94, -0.2,   6.03], \n",
    "                    [-2.6, -0.058, 1.2]])\n",
    "pred_2 = parameter_shift(input_2).flatten()\n",
    "ans_2 = np.array([0.0299518791, -0.0393131888, 0, -0.0340899969, 0.1662797765, 0])\n",
    "test_result(pred_2, ans_2, tol)"
   ]
  }
 ],
 "metadata": {
  "kernelspec": {
   "display_name": "Python 3",
   "language": "python",
   "name": "python3"
  },
  "language_info": {
   "codemirror_mode": {
    "name": "ipython",
    "version": 3
   },
   "file_extension": ".py",
   "mimetype": "text/x-python",
   "name": "python",
   "nbconvert_exporter": "python",
   "pygments_lexer": "ipython3",
   "version": "3.8.5"
  }
 },
 "nbformat": 4,
 "nbformat_minor": 4
}
