{
 "cells": [
  {
   "cell_type": "markdown",
   "metadata": {},
   "source": [
    "# Circuit Training - QAOA\n",
    "## [QHack 2021](https://challenge.qhack.ai/)\n",
    "### Matt Wright"
   ]
  },
  {
   "cell_type": "code",
   "execution_count": 1,
   "metadata": {},
   "outputs": [],
   "source": [
    "import networkx as nx\n",
    "import numpy as np\n",
    "import pennylane as qml\n",
    "from matplotlib import pyplot as plt"
   ]
  },
  {
   "cell_type": "code",
   "execution_count": 2,
   "metadata": {},
   "outputs": [],
   "source": [
    "NODES = 6\n",
    "N_LAYERS = 10"
   ]
  },
  {
   "cell_type": "code",
   "execution_count": 3,
   "metadata": {},
   "outputs": [],
   "source": [
    "def find_max_independent_set(graph, params):\n",
    "    \"\"\"Find the maximum independent set of an input graph given some optimized QAOA parameters.\n",
    "\n",
    "    Args:\n",
    "        graph (nx.Graph): A NetworkX graph\n",
    "        params (np.ndarray): Optimized QAOA parameters of shape (2, 10)\n",
    "\n",
    "    Returns:\n",
    "        list[int]: the maximum independent set, specified as a list of nodes in ascending order\n",
    "    \"\"\"\n",
    "\n",
    "    # My solution begins here #\n",
    "    wires = range(NODES)\n",
    "    dev = qml.device('default.qubit', wires=wires)\n",
    "    \n",
    "    cost_h, mixer_h = qml.qaoa.max_independent_set(graph)\n",
    "    def qaoa_layer(gamma, alpha):\n",
    "        qml.qaoa.cost_layer(gamma, cost_h)\n",
    "        qml.qaoa.mixer_layer(alpha, mixer_h)\n",
    "    \n",
    "    @qml.qnode(dev)\n",
    "    def probability_circuit(params):\n",
    "        qml.layer(qaoa_layer, N_LAYERS, params[0], params[1])\n",
    "        return qml.probs(wires=wires)\n",
    "    \n",
    "    probs = probability_circuit(params)\n",
    "    \n",
    "    max_prob = max(list(probs))\n",
    "    max_index = list(probs).index(max_prob)\n",
    " \n",
    "    binary_idx = \"{0:b}\".format(max_index)\n",
    "    binary_idx = '0' * (NODES-len(binary_idx)) + binary_idx\n",
    "    \n",
    "    max_ind_set = np.array([int(i) for i, v in enumerate(binary_idx) if v != '0'])\n",
    "    \n",
    "    # My solution ends here #\n",
    "    return max_ind_set"
   ]
  },
  {
   "cell_type": "markdown",
   "metadata": {},
   "source": [
    "## Testing"
   ]
  },
  {
   "cell_type": "code",
   "execution_count": 4,
   "metadata": {},
   "outputs": [],
   "source": [
    "from test_result import test_result"
   ]
  },
  {
   "cell_type": "code",
   "execution_count": 5,
   "metadata": {},
   "outputs": [
    {
     "name": "stdout",
     "output_type": "stream",
     "text": [
      "Test 1:\n",
      "Success!!\n",
      "\n",
      "Test 2:\n",
      "Success!!\n"
     ]
    }
   ],
   "source": [
    "tol = 10e-3\n",
    "\n",
    "print('Test 1:')\n",
    "graph_data = {\"directed\": False, \"multigraph\": False, \"graph\": [], \"nodes\": [{\"id\": 0}, {\"id\": 1}, {\"id\": 2}, {\"id\": 3}, {\"id\": 4}, {\"id\": 5}], \"adjacency\": [[{\"id\": 2}, {\"id\": 3}], [{\"id\": 2}, {\"id\": 3}, {\"id\": 4}, {\"id\": 5}], [{\"id\": 0}, {\"id\": 1}], [{\"id\": 0}, {\"id\": 1}, {\"id\": 5}], [{\"id\": 1}, {\"id\": 5}], [{\"id\": 1}, {\"id\": 3}, {\"id\": 4}]], \"params\": [[0.007251195968545696, 0.0008594067983382697, 6.757788685303326e-05, -0.002960663108058259, -3.990107834181506e-05, 0.0008459551312108134, -0.001277886948034289, 0.0013917849664037338, 0.0050844175570855495, 0.0004046899603893801], [0.056410689341680226, 0.07332551003086096, 0.11573770360937545, 0.1471947383136579, 0.16520379259436668, 0.16107577283133256, 0.13346398582028385, 0.08533445938002224, 0.06505979609496622, 0.047259251575614024]]}\n",
    "params = np.array(graph_data.pop(\"params\"))\n",
    "graph = nx.json_graph.adjacency_graph(graph_data)\n",
    "\n",
    "pred_1 = find_max_independent_set(graph, params)\n",
    "ans_1 = np.array([2, 3, 4])\n",
    "test_result(pred_1, ans_1, tol)\n",
    "\n",
    "print('\\nTest 2:')\n",
    "graph_data = {\"directed\": False, \"multigraph\": False, \"graph\": [], \"nodes\": [{\"id\": 0}, {\"id\": 1}, {\"id\": 2}, {\"id\": 3}, {\"id\": 4}, {\"id\": 5}], \"adjacency\": [[{\"id\": 3}, {\"id\": 4}], [{\"id\": 4}, {\"id\": 5}], [{\"id\": 3}, {\"id\": 5}], [{\"id\": 0}, {\"id\": 2}, {\"id\": 4}], [{\"id\": 0}, {\"id\": 1}, {\"id\": 3}], [{\"id\": 1}, {\"id\": 2}]], \"params\": [[0.00725119586350819, 0.0006993146552754333, 0.00018938653033438184, -0.002576694936729869, 0.000184128566739523, 0.0007971715773060028, -0.001474030227059991, 0.001133453129607066, 0.004748509435854284, -2.719819887597862e-05], [0.023501757757741343, 0.04041058176918198, 0.10033413722212867, 0.1891521087372252, 0.24644283314811008, 0.2038888864247133, 0.12928227840808193, 0.06257051158195509, 0.04319572071910715, 0.02744074527290291]]}\n",
    "params = np.array(graph_data.pop(\"params\"))\n",
    "graph = nx.json_graph.adjacency_graph(graph_data)\n",
    "\n",
    "pred_2 = find_max_independent_set(graph, params)\n",
    "ans_2 = np.array([0, 1, 2])\n",
    "test_result(pred_2, ans_2, tol)"
   ]
  }
 ],
 "metadata": {
  "kernelspec": {
   "display_name": "Python 3",
   "language": "python",
   "name": "python3"
  },
  "language_info": {
   "codemirror_mode": {
    "name": "ipython",
    "version": 3
   },
   "file_extension": ".py",
   "mimetype": "text/x-python",
   "name": "python",
   "nbconvert_exporter": "python",
   "pygments_lexer": "ipython3",
   "version": "3.8.5"
  }
 },
 "nbformat": 4,
 "nbformat_minor": 4
}
